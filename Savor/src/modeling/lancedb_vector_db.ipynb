{
 "cells": [
  {
   "cell_type": "markdown",
   "id": "a1cd6b05-eff0-4363-aee4-593b1dbe5513",
   "metadata": {},
   "source": [
    "# References"
   ]
  },
  {
   "cell_type": "markdown",
   "id": "eddd1caf-66b2-459d-b090-4d669a94c525",
   "metadata": {},
   "source": [
    "https://lancedb.github.io/lancedb/basic/#installation"
   ]
  },
  {
   "cell_type": "markdown",
   "id": "75323bb1-0a8d-4e6c-8142-c143628ce4fa",
   "metadata": {},
   "source": [
    "# Step 1: Install lancedb"
   ]
  },
  {
   "cell_type": "code",
   "execution_count": 1,
   "id": "0bea8639-e5ad-4d48-962f-1210f760ccab",
   "metadata": {
    "tags": []
   },
   "outputs": [
    {
     "name": "stdout",
     "output_type": "stream",
     "text": [
      "Collecting lancedb\n",
      "  Downloading lancedb-0.15.0-cp38-abi3-manylinux_2_17_x86_64.manylinux2014_x86_64.whl.metadata (4.8 kB)\n",
      "Collecting deprecation (from lancedb)\n",
      "  Downloading deprecation-2.1.0-py2.py3-none-any.whl.metadata (4.6 kB)\n",
      "Collecting pylance==0.19.1 (from lancedb)\n",
      "  Downloading pylance-0.19.1-cp39-abi3-manylinux_2_17_x86_64.manylinux2014_x86_64.whl.metadata (7.4 kB)\n",
      "Requirement already satisfied: requests>=2.31.0 in /home/ec2-user/anaconda3/envs/pytorch_p310/lib/python3.10/site-packages (from lancedb) (2.32.3)\n",
      "Requirement already satisfied: tqdm>=4.27.0 in /home/ec2-user/anaconda3/envs/pytorch_p310/lib/python3.10/site-packages (from lancedb) (4.66.5)\n",
      "Requirement already satisfied: pydantic>=1.10 in /home/ec2-user/anaconda3/envs/pytorch_p310/lib/python3.10/site-packages (from lancedb) (2.9.2)\n",
      "Requirement already satisfied: attrs>=21.3.0 in /home/ec2-user/anaconda3/envs/pytorch_p310/lib/python3.10/site-packages (from lancedb) (23.2.0)\n",
      "Requirement already satisfied: packaging in /home/ec2-user/anaconda3/envs/pytorch_p310/lib/python3.10/site-packages (from lancedb) (21.3)\n",
      "Requirement already satisfied: cachetools in /home/ec2-user/anaconda3/envs/pytorch_p310/lib/python3.10/site-packages (from lancedb) (5.5.0)\n",
      "Requirement already satisfied: overrides>=0.7 in /home/ec2-user/anaconda3/envs/pytorch_p310/lib/python3.10/site-packages (from lancedb) (7.7.0)\n",
      "Requirement already satisfied: pyarrow>=12 in /home/ec2-user/anaconda3/envs/pytorch_p310/lib/python3.10/site-packages (from pylance==0.19.1->lancedb) (17.0.0)\n",
      "Requirement already satisfied: numpy<2,>=1.22 in /home/ec2-user/anaconda3/envs/pytorch_p310/lib/python3.10/site-packages (from pylance==0.19.1->lancedb) (1.26.4)\n",
      "Requirement already satisfied: annotated-types>=0.6.0 in /home/ec2-user/anaconda3/envs/pytorch_p310/lib/python3.10/site-packages (from pydantic>=1.10->lancedb) (0.7.0)\n",
      "Requirement already satisfied: pydantic-core==2.23.4 in /home/ec2-user/anaconda3/envs/pytorch_p310/lib/python3.10/site-packages (from pydantic>=1.10->lancedb) (2.23.4)\n",
      "Requirement already satisfied: typing-extensions>=4.6.1 in /home/ec2-user/anaconda3/envs/pytorch_p310/lib/python3.10/site-packages (from pydantic>=1.10->lancedb) (4.12.2)\n",
      "Requirement already satisfied: charset-normalizer<4,>=2 in /home/ec2-user/anaconda3/envs/pytorch_p310/lib/python3.10/site-packages (from requests>=2.31.0->lancedb) (3.4.0)\n",
      "Requirement already satisfied: idna<4,>=2.5 in /home/ec2-user/anaconda3/envs/pytorch_p310/lib/python3.10/site-packages (from requests>=2.31.0->lancedb) (3.10)\n",
      "Requirement already satisfied: urllib3<3,>=1.21.1 in /home/ec2-user/anaconda3/envs/pytorch_p310/lib/python3.10/site-packages (from requests>=2.31.0->lancedb) (2.2.3)\n",
      "Requirement already satisfied: certifi>=2017.4.17 in /home/ec2-user/anaconda3/envs/pytorch_p310/lib/python3.10/site-packages (from requests>=2.31.0->lancedb) (2024.8.30)\n",
      "Requirement already satisfied: pyparsing!=3.0.5,>=2.0.2 in /home/ec2-user/anaconda3/envs/pytorch_p310/lib/python3.10/site-packages (from packaging->lancedb) (3.2.0)\n",
      "Downloading lancedb-0.15.0-cp38-abi3-manylinux_2_17_x86_64.manylinux2014_x86_64.whl (27.7 MB)\n",
      "\u001b[2K   \u001b[90m━━━━━━━━━━━━━━━━━━━━━━━━━━━━━━━━━━━━━━━━\u001b[0m \u001b[32m27.7/27.7 MB\u001b[0m \u001b[31m70.8 MB/s\u001b[0m eta \u001b[36m0:00:00\u001b[0m:00:01\u001b[0m\n",
      "\u001b[?25hDownloading pylance-0.19.1-cp39-abi3-manylinux_2_17_x86_64.manylinux2014_x86_64.whl (30.4 MB)\n",
      "\u001b[2K   \u001b[90m━━━━━━━━━━━━━━━━━━━━━━━━━━━━━━━━━━━━━━━━\u001b[0m \u001b[32m30.4/30.4 MB\u001b[0m \u001b[31m88.0 MB/s\u001b[0m eta \u001b[36m0:00:00\u001b[0m:00:01\u001b[0m\n",
      "\u001b[?25hDownloading deprecation-2.1.0-py2.py3-none-any.whl (11 kB)\n",
      "Installing collected packages: pylance, deprecation, lancedb\n",
      "Successfully installed deprecation-2.1.0 lancedb-0.15.0 pylance-0.19.1\n"
     ]
    }
   ],
   "source": [
    "!pip install lancedb\n"
   ]
  },
  {
   "cell_type": "markdown",
   "id": "ea2d251d-33b6-45d2-ba80-450225730254",
   "metadata": {
    "tags": []
   },
   "source": [
    "# Step 2: Load the CSV files "
   ]
  },
  {
   "cell_type": "markdown",
   "id": "3fa5dfc8-d1c5-4867-b5e1-62d57f8b23a4",
   "metadata": {},
   "source": [
    "## Import the Cleaned CSV file from Spoonacular"
   ]
  },
  {
   "cell_type": "code",
   "execution_count": 2,
   "id": "f853b801-70c8-4684-ab62-4111c930d666",
   "metadata": {
    "tags": []
   },
   "outputs": [
    {
     "ename": "FileNotFoundError",
     "evalue": "[Errno 2] No such file or directory: 'Clean.csv'",
     "output_type": "error",
     "traceback": [
      "\u001b[0;31m---------------------------------------------------------------------------\u001b[0m",
      "\u001b[0;31mFileNotFoundError\u001b[0m                         Traceback (most recent call last)",
      "Cell \u001b[0;32mIn[2], line 6\u001b[0m\n\u001b[1;32m      1\u001b[0m \u001b[38;5;28;01mimport\u001b[39;00m \u001b[38;5;21;01mpandas\u001b[39;00m \u001b[38;5;28;01mas\u001b[39;00m \u001b[38;5;21;01mpd\u001b[39;00m\n\u001b[1;32m      3\u001b[0m \u001b[38;5;66;03m# Load the CSV file\u001b[39;00m\n\u001b[1;32m      4\u001b[0m \n\u001b[1;32m      5\u001b[0m \u001b[38;5;66;03m#load in data\u001b[39;00m\n\u001b[0;32m----> 6\u001b[0m data \u001b[38;5;241m=\u001b[39m \u001b[43mpd\u001b[49m\u001b[38;5;241;43m.\u001b[39;49m\u001b[43mread_csv\u001b[49m\u001b[43m(\u001b[49m\u001b[38;5;124;43m\"\u001b[39;49m\u001b[38;5;124;43mClean.csv\u001b[39;49m\u001b[38;5;124;43m\"\u001b[39;49m\u001b[43m)\u001b[49m\n\u001b[1;32m      7\u001b[0m \u001b[38;5;28mprint\u001b[39m(data\u001b[38;5;241m.\u001b[39mhead())\n",
      "File \u001b[0;32m~/anaconda3/envs/pytorch_p310/lib/python3.10/site-packages/pandas/util/_decorators.py:211\u001b[0m, in \u001b[0;36mdeprecate_kwarg.<locals>._deprecate_kwarg.<locals>.wrapper\u001b[0;34m(*args, **kwargs)\u001b[0m\n\u001b[1;32m    209\u001b[0m     \u001b[38;5;28;01melse\u001b[39;00m:\n\u001b[1;32m    210\u001b[0m         kwargs[new_arg_name] \u001b[38;5;241m=\u001b[39m new_arg_value\n\u001b[0;32m--> 211\u001b[0m \u001b[38;5;28;01mreturn\u001b[39;00m \u001b[43mfunc\u001b[49m\u001b[43m(\u001b[49m\u001b[38;5;241;43m*\u001b[39;49m\u001b[43margs\u001b[49m\u001b[43m,\u001b[49m\u001b[43m \u001b[49m\u001b[38;5;241;43m*\u001b[39;49m\u001b[38;5;241;43m*\u001b[39;49m\u001b[43mkwargs\u001b[49m\u001b[43m)\u001b[49m\n",
      "File \u001b[0;32m~/anaconda3/envs/pytorch_p310/lib/python3.10/site-packages/pandas/util/_decorators.py:331\u001b[0m, in \u001b[0;36mdeprecate_nonkeyword_arguments.<locals>.decorate.<locals>.wrapper\u001b[0;34m(*args, **kwargs)\u001b[0m\n\u001b[1;32m    325\u001b[0m \u001b[38;5;28;01mif\u001b[39;00m \u001b[38;5;28mlen\u001b[39m(args) \u001b[38;5;241m>\u001b[39m num_allow_args:\n\u001b[1;32m    326\u001b[0m     warnings\u001b[38;5;241m.\u001b[39mwarn(\n\u001b[1;32m    327\u001b[0m         msg\u001b[38;5;241m.\u001b[39mformat(arguments\u001b[38;5;241m=\u001b[39m_format_argument_list(allow_args)),\n\u001b[1;32m    328\u001b[0m         \u001b[38;5;167;01mFutureWarning\u001b[39;00m,\n\u001b[1;32m    329\u001b[0m         stacklevel\u001b[38;5;241m=\u001b[39mfind_stack_level(),\n\u001b[1;32m    330\u001b[0m     )\n\u001b[0;32m--> 331\u001b[0m \u001b[38;5;28;01mreturn\u001b[39;00m \u001b[43mfunc\u001b[49m\u001b[43m(\u001b[49m\u001b[38;5;241;43m*\u001b[39;49m\u001b[43margs\u001b[49m\u001b[43m,\u001b[49m\u001b[43m \u001b[49m\u001b[38;5;241;43m*\u001b[39;49m\u001b[38;5;241;43m*\u001b[39;49m\u001b[43mkwargs\u001b[49m\u001b[43m)\u001b[49m\n",
      "File \u001b[0;32m~/anaconda3/envs/pytorch_p310/lib/python3.10/site-packages/pandas/io/parsers/readers.py:950\u001b[0m, in \u001b[0;36mread_csv\u001b[0;34m(filepath_or_buffer, sep, delimiter, header, names, index_col, usecols, squeeze, prefix, mangle_dupe_cols, dtype, engine, converters, true_values, false_values, skipinitialspace, skiprows, skipfooter, nrows, na_values, keep_default_na, na_filter, verbose, skip_blank_lines, parse_dates, infer_datetime_format, keep_date_col, date_parser, dayfirst, cache_dates, iterator, chunksize, compression, thousands, decimal, lineterminator, quotechar, quoting, doublequote, escapechar, comment, encoding, encoding_errors, dialect, error_bad_lines, warn_bad_lines, on_bad_lines, delim_whitespace, low_memory, memory_map, float_precision, storage_options)\u001b[0m\n\u001b[1;32m    935\u001b[0m kwds_defaults \u001b[38;5;241m=\u001b[39m _refine_defaults_read(\n\u001b[1;32m    936\u001b[0m     dialect,\n\u001b[1;32m    937\u001b[0m     delimiter,\n\u001b[0;32m   (...)\u001b[0m\n\u001b[1;32m    946\u001b[0m     defaults\u001b[38;5;241m=\u001b[39m{\u001b[38;5;124m\"\u001b[39m\u001b[38;5;124mdelimiter\u001b[39m\u001b[38;5;124m\"\u001b[39m: \u001b[38;5;124m\"\u001b[39m\u001b[38;5;124m,\u001b[39m\u001b[38;5;124m\"\u001b[39m},\n\u001b[1;32m    947\u001b[0m )\n\u001b[1;32m    948\u001b[0m kwds\u001b[38;5;241m.\u001b[39mupdate(kwds_defaults)\n\u001b[0;32m--> 950\u001b[0m \u001b[38;5;28;01mreturn\u001b[39;00m \u001b[43m_read\u001b[49m\u001b[43m(\u001b[49m\u001b[43mfilepath_or_buffer\u001b[49m\u001b[43m,\u001b[49m\u001b[43m \u001b[49m\u001b[43mkwds\u001b[49m\u001b[43m)\u001b[49m\n",
      "File \u001b[0;32m~/anaconda3/envs/pytorch_p310/lib/python3.10/site-packages/pandas/io/parsers/readers.py:605\u001b[0m, in \u001b[0;36m_read\u001b[0;34m(filepath_or_buffer, kwds)\u001b[0m\n\u001b[1;32m    602\u001b[0m _validate_names(kwds\u001b[38;5;241m.\u001b[39mget(\u001b[38;5;124m\"\u001b[39m\u001b[38;5;124mnames\u001b[39m\u001b[38;5;124m\"\u001b[39m, \u001b[38;5;28;01mNone\u001b[39;00m))\n\u001b[1;32m    604\u001b[0m \u001b[38;5;66;03m# Create the parser.\u001b[39;00m\n\u001b[0;32m--> 605\u001b[0m parser \u001b[38;5;241m=\u001b[39m \u001b[43mTextFileReader\u001b[49m\u001b[43m(\u001b[49m\u001b[43mfilepath_or_buffer\u001b[49m\u001b[43m,\u001b[49m\u001b[43m \u001b[49m\u001b[38;5;241;43m*\u001b[39;49m\u001b[38;5;241;43m*\u001b[39;49m\u001b[43mkwds\u001b[49m\u001b[43m)\u001b[49m\n\u001b[1;32m    607\u001b[0m \u001b[38;5;28;01mif\u001b[39;00m chunksize \u001b[38;5;129;01mor\u001b[39;00m iterator:\n\u001b[1;32m    608\u001b[0m     \u001b[38;5;28;01mreturn\u001b[39;00m parser\n",
      "File \u001b[0;32m~/anaconda3/envs/pytorch_p310/lib/python3.10/site-packages/pandas/io/parsers/readers.py:1442\u001b[0m, in \u001b[0;36mTextFileReader.__init__\u001b[0;34m(self, f, engine, **kwds)\u001b[0m\n\u001b[1;32m   1439\u001b[0m     \u001b[38;5;28mself\u001b[39m\u001b[38;5;241m.\u001b[39moptions[\u001b[38;5;124m\"\u001b[39m\u001b[38;5;124mhas_index_names\u001b[39m\u001b[38;5;124m\"\u001b[39m] \u001b[38;5;241m=\u001b[39m kwds[\u001b[38;5;124m\"\u001b[39m\u001b[38;5;124mhas_index_names\u001b[39m\u001b[38;5;124m\"\u001b[39m]\n\u001b[1;32m   1441\u001b[0m \u001b[38;5;28mself\u001b[39m\u001b[38;5;241m.\u001b[39mhandles: IOHandles \u001b[38;5;241m|\u001b[39m \u001b[38;5;28;01mNone\u001b[39;00m \u001b[38;5;241m=\u001b[39m \u001b[38;5;28;01mNone\u001b[39;00m\n\u001b[0;32m-> 1442\u001b[0m \u001b[38;5;28mself\u001b[39m\u001b[38;5;241m.\u001b[39m_engine \u001b[38;5;241m=\u001b[39m \u001b[38;5;28;43mself\u001b[39;49m\u001b[38;5;241;43m.\u001b[39;49m\u001b[43m_make_engine\u001b[49m\u001b[43m(\u001b[49m\u001b[43mf\u001b[49m\u001b[43m,\u001b[49m\u001b[43m \u001b[49m\u001b[38;5;28;43mself\u001b[39;49m\u001b[38;5;241;43m.\u001b[39;49m\u001b[43mengine\u001b[49m\u001b[43m)\u001b[49m\n",
      "File \u001b[0;32m~/anaconda3/envs/pytorch_p310/lib/python3.10/site-packages/pandas/io/parsers/readers.py:1735\u001b[0m, in \u001b[0;36mTextFileReader._make_engine\u001b[0;34m(self, f, engine)\u001b[0m\n\u001b[1;32m   1733\u001b[0m     \u001b[38;5;28;01mif\u001b[39;00m \u001b[38;5;124m\"\u001b[39m\u001b[38;5;124mb\u001b[39m\u001b[38;5;124m\"\u001b[39m \u001b[38;5;129;01mnot\u001b[39;00m \u001b[38;5;129;01min\u001b[39;00m mode:\n\u001b[1;32m   1734\u001b[0m         mode \u001b[38;5;241m+\u001b[39m\u001b[38;5;241m=\u001b[39m \u001b[38;5;124m\"\u001b[39m\u001b[38;5;124mb\u001b[39m\u001b[38;5;124m\"\u001b[39m\n\u001b[0;32m-> 1735\u001b[0m \u001b[38;5;28mself\u001b[39m\u001b[38;5;241m.\u001b[39mhandles \u001b[38;5;241m=\u001b[39m \u001b[43mget_handle\u001b[49m\u001b[43m(\u001b[49m\n\u001b[1;32m   1736\u001b[0m \u001b[43m    \u001b[49m\u001b[43mf\u001b[49m\u001b[43m,\u001b[49m\n\u001b[1;32m   1737\u001b[0m \u001b[43m    \u001b[49m\u001b[43mmode\u001b[49m\u001b[43m,\u001b[49m\n\u001b[1;32m   1738\u001b[0m \u001b[43m    \u001b[49m\u001b[43mencoding\u001b[49m\u001b[38;5;241;43m=\u001b[39;49m\u001b[38;5;28;43mself\u001b[39;49m\u001b[38;5;241;43m.\u001b[39;49m\u001b[43moptions\u001b[49m\u001b[38;5;241;43m.\u001b[39;49m\u001b[43mget\u001b[49m\u001b[43m(\u001b[49m\u001b[38;5;124;43m\"\u001b[39;49m\u001b[38;5;124;43mencoding\u001b[39;49m\u001b[38;5;124;43m\"\u001b[39;49m\u001b[43m,\u001b[49m\u001b[43m \u001b[49m\u001b[38;5;28;43;01mNone\u001b[39;49;00m\u001b[43m)\u001b[49m\u001b[43m,\u001b[49m\n\u001b[1;32m   1739\u001b[0m \u001b[43m    \u001b[49m\u001b[43mcompression\u001b[49m\u001b[38;5;241;43m=\u001b[39;49m\u001b[38;5;28;43mself\u001b[39;49m\u001b[38;5;241;43m.\u001b[39;49m\u001b[43moptions\u001b[49m\u001b[38;5;241;43m.\u001b[39;49m\u001b[43mget\u001b[49m\u001b[43m(\u001b[49m\u001b[38;5;124;43m\"\u001b[39;49m\u001b[38;5;124;43mcompression\u001b[39;49m\u001b[38;5;124;43m\"\u001b[39;49m\u001b[43m,\u001b[49m\u001b[43m \u001b[49m\u001b[38;5;28;43;01mNone\u001b[39;49;00m\u001b[43m)\u001b[49m\u001b[43m,\u001b[49m\n\u001b[1;32m   1740\u001b[0m \u001b[43m    \u001b[49m\u001b[43mmemory_map\u001b[49m\u001b[38;5;241;43m=\u001b[39;49m\u001b[38;5;28;43mself\u001b[39;49m\u001b[38;5;241;43m.\u001b[39;49m\u001b[43moptions\u001b[49m\u001b[38;5;241;43m.\u001b[39;49m\u001b[43mget\u001b[49m\u001b[43m(\u001b[49m\u001b[38;5;124;43m\"\u001b[39;49m\u001b[38;5;124;43mmemory_map\u001b[39;49m\u001b[38;5;124;43m\"\u001b[39;49m\u001b[43m,\u001b[49m\u001b[43m \u001b[49m\u001b[38;5;28;43;01mFalse\u001b[39;49;00m\u001b[43m)\u001b[49m\u001b[43m,\u001b[49m\n\u001b[1;32m   1741\u001b[0m \u001b[43m    \u001b[49m\u001b[43mis_text\u001b[49m\u001b[38;5;241;43m=\u001b[39;49m\u001b[43mis_text\u001b[49m\u001b[43m,\u001b[49m\n\u001b[1;32m   1742\u001b[0m \u001b[43m    \u001b[49m\u001b[43merrors\u001b[49m\u001b[38;5;241;43m=\u001b[39;49m\u001b[38;5;28;43mself\u001b[39;49m\u001b[38;5;241;43m.\u001b[39;49m\u001b[43moptions\u001b[49m\u001b[38;5;241;43m.\u001b[39;49m\u001b[43mget\u001b[49m\u001b[43m(\u001b[49m\u001b[38;5;124;43m\"\u001b[39;49m\u001b[38;5;124;43mencoding_errors\u001b[39;49m\u001b[38;5;124;43m\"\u001b[39;49m\u001b[43m,\u001b[49m\u001b[43m \u001b[49m\u001b[38;5;124;43m\"\u001b[39;49m\u001b[38;5;124;43mstrict\u001b[39;49m\u001b[38;5;124;43m\"\u001b[39;49m\u001b[43m)\u001b[49m\u001b[43m,\u001b[49m\n\u001b[1;32m   1743\u001b[0m \u001b[43m    \u001b[49m\u001b[43mstorage_options\u001b[49m\u001b[38;5;241;43m=\u001b[39;49m\u001b[38;5;28;43mself\u001b[39;49m\u001b[38;5;241;43m.\u001b[39;49m\u001b[43moptions\u001b[49m\u001b[38;5;241;43m.\u001b[39;49m\u001b[43mget\u001b[49m\u001b[43m(\u001b[49m\u001b[38;5;124;43m\"\u001b[39;49m\u001b[38;5;124;43mstorage_options\u001b[39;49m\u001b[38;5;124;43m\"\u001b[39;49m\u001b[43m,\u001b[49m\u001b[43m \u001b[49m\u001b[38;5;28;43;01mNone\u001b[39;49;00m\u001b[43m)\u001b[49m\u001b[43m,\u001b[49m\n\u001b[1;32m   1744\u001b[0m \u001b[43m\u001b[49m\u001b[43m)\u001b[49m\n\u001b[1;32m   1745\u001b[0m \u001b[38;5;28;01massert\u001b[39;00m \u001b[38;5;28mself\u001b[39m\u001b[38;5;241m.\u001b[39mhandles \u001b[38;5;129;01mis\u001b[39;00m \u001b[38;5;129;01mnot\u001b[39;00m \u001b[38;5;28;01mNone\u001b[39;00m\n\u001b[1;32m   1746\u001b[0m f \u001b[38;5;241m=\u001b[39m \u001b[38;5;28mself\u001b[39m\u001b[38;5;241m.\u001b[39mhandles\u001b[38;5;241m.\u001b[39mhandle\n",
      "File \u001b[0;32m~/anaconda3/envs/pytorch_p310/lib/python3.10/site-packages/pandas/io/common.py:856\u001b[0m, in \u001b[0;36mget_handle\u001b[0;34m(path_or_buf, mode, encoding, compression, memory_map, is_text, errors, storage_options)\u001b[0m\n\u001b[1;32m    851\u001b[0m \u001b[38;5;28;01melif\u001b[39;00m \u001b[38;5;28misinstance\u001b[39m(handle, \u001b[38;5;28mstr\u001b[39m):\n\u001b[1;32m    852\u001b[0m     \u001b[38;5;66;03m# Check whether the filename is to be opened in binary mode.\u001b[39;00m\n\u001b[1;32m    853\u001b[0m     \u001b[38;5;66;03m# Binary mode does not support 'encoding' and 'newline'.\u001b[39;00m\n\u001b[1;32m    854\u001b[0m     \u001b[38;5;28;01mif\u001b[39;00m ioargs\u001b[38;5;241m.\u001b[39mencoding \u001b[38;5;129;01mand\u001b[39;00m \u001b[38;5;124m\"\u001b[39m\u001b[38;5;124mb\u001b[39m\u001b[38;5;124m\"\u001b[39m \u001b[38;5;129;01mnot\u001b[39;00m \u001b[38;5;129;01min\u001b[39;00m ioargs\u001b[38;5;241m.\u001b[39mmode:\n\u001b[1;32m    855\u001b[0m         \u001b[38;5;66;03m# Encoding\u001b[39;00m\n\u001b[0;32m--> 856\u001b[0m         handle \u001b[38;5;241m=\u001b[39m \u001b[38;5;28;43mopen\u001b[39;49m\u001b[43m(\u001b[49m\n\u001b[1;32m    857\u001b[0m \u001b[43m            \u001b[49m\u001b[43mhandle\u001b[49m\u001b[43m,\u001b[49m\n\u001b[1;32m    858\u001b[0m \u001b[43m            \u001b[49m\u001b[43mioargs\u001b[49m\u001b[38;5;241;43m.\u001b[39;49m\u001b[43mmode\u001b[49m\u001b[43m,\u001b[49m\n\u001b[1;32m    859\u001b[0m \u001b[43m            \u001b[49m\u001b[43mencoding\u001b[49m\u001b[38;5;241;43m=\u001b[39;49m\u001b[43mioargs\u001b[49m\u001b[38;5;241;43m.\u001b[39;49m\u001b[43mencoding\u001b[49m\u001b[43m,\u001b[49m\n\u001b[1;32m    860\u001b[0m \u001b[43m            \u001b[49m\u001b[43merrors\u001b[49m\u001b[38;5;241;43m=\u001b[39;49m\u001b[43merrors\u001b[49m\u001b[43m,\u001b[49m\n\u001b[1;32m    861\u001b[0m \u001b[43m            \u001b[49m\u001b[43mnewline\u001b[49m\u001b[38;5;241;43m=\u001b[39;49m\u001b[38;5;124;43m\"\u001b[39;49m\u001b[38;5;124;43m\"\u001b[39;49m\u001b[43m,\u001b[49m\n\u001b[1;32m    862\u001b[0m \u001b[43m        \u001b[49m\u001b[43m)\u001b[49m\n\u001b[1;32m    863\u001b[0m     \u001b[38;5;28;01melse\u001b[39;00m:\n\u001b[1;32m    864\u001b[0m         \u001b[38;5;66;03m# Binary mode\u001b[39;00m\n\u001b[1;32m    865\u001b[0m         handle \u001b[38;5;241m=\u001b[39m \u001b[38;5;28mopen\u001b[39m(handle, ioargs\u001b[38;5;241m.\u001b[39mmode)\n",
      "\u001b[0;31mFileNotFoundError\u001b[0m: [Errno 2] No such file or directory: 'Clean.csv'"
     ]
    }
   ],
   "source": [
    "import pandas as pd\n",
    "\n",
    "# Load the CSV file\n",
    "\n",
    "#load in data\n",
    "data = pd.read_csv(\"Clean.csv\")\n",
    "print(data.head())\n"
   ]
  },
  {
   "cell_type": "markdown",
   "id": "4a7712d5-10ff-4359-a7ed-6714285e7f60",
   "metadata": {},
   "source": [
    "## Import the Pantry CSV where Items within Categories will be matched to specific Ingredients"
   ]
  },
  {
   "cell_type": "code",
   "execution_count": null,
   "id": "081ec4e6-b4bf-4bee-a49d-a835ff724971",
   "metadata": {},
   "outputs": [],
   "source": [
    "import pandas as pd\n",
    "\n",
    "# Load the CSV file\n",
    "\n",
    "#load in data\n",
    "pantry = pd.read_csv(\"Pantry.csv\")\n",
    "print(pantry.head())\n"
   ]
  },
  {
   "cell_type": "markdown",
   "id": "b80385a4-7872-4dab-be53-b8b56ce93bfc",
   "metadata": {},
   "source": [
    "## Add in the output from the UI - JSON?"
   ]
  },
  {
   "cell_type": "code",
   "execution_count": null,
   "id": "7102a326-d083-4bc1-98ed-afac4315e3f3",
   "metadata": {},
   "outputs": [],
   "source": [
    "import json\n",
    "with open ('output.json', 'r') as file:\n",
    "    UI = json.load(file)\n",
    "\n",
    "print(UI.head())"
   ]
  },
  {
   "cell_type": "markdown",
   "id": "8000079b",
   "metadata": {},
   "source": [
    "# Step 3: establish expected user-owned ingredients\n",
    "We don't want the user to have to input things like salt and pepper every time."
   ]
  },
  {
   "cell_type": "code",
   "execution_count": null,
   "id": "3478b96f",
   "metadata": {},
   "outputs": [],
   "source": [
    "common_pantry = ['salt', 'pepper', 'oil', 'olive oil', 'vegetable oil', 'butter']"
   ]
  },
  {
   "cell_type": "markdown",
   "id": "ad0a0e6c-bdec-456b-b27a-9b3d248fd9cd",
   "metadata": {},
   "source": [
    "# Step 4: Create Columns for Nutrition based on Clean.csv"
   ]
  },
  {
   "cell_type": "code",
   "execution_count": null,
   "id": "168a781d-f3a8-4f9e-8a6a-72b1fc0ff43f",
   "metadata": {},
   "outputs": [],
   "source": [
    "low_calorie_threshold = 200\n",
    "\n",
    "# https://www.nal.usda.gov/programs/fnic#:~:text=How%20many%20calories%20are%20in,find%20information%20about%20food%20composition\n",
    "\n",
    "# 4 calories per gram for protein; 9 calories per gram for fat\n",
    "\n",
    "data['Calories from Protein'] = data['Protein']*4\n",
    "data['Calories from Fat'] = data['Fat']*9\n",
    "\n",
    "data['Low Calorie'] = data['Calories'].apply(lambda x: x <= low_calorie_threshold)\n",
    "data['High Protein'] = data['Calories from Protein'] > (data['Calories']*.2)\n",
    "data['Low Fat'] = data['Calories from Fat'] < (data['Calories']*.3)\n"
   ]
  },
  {
   "cell_type": "markdown",
   "id": "69fe90a7-2d9d-4cc1-918a-812f6aeb5a0b",
   "metadata": {},
   "source": [
    "# Step 5: Filter on User's dietary restrictions"
   ]
  },
  {
   "cell_type": "code",
   "execution_count": null,
   "id": "189ef28d-9c47-4ed0-8558-67fef5706b0e",
   "metadata": {},
   "outputs": [],
   "source": [
    "# renaming columns for dietary restrictions to match what is in the User Output from the UI\n",
    "data = data.rename(columns={'vegetarian': 'Vegetarian', 'vegan': 'Vegan', 'glutenFree': 'Gluten Free', 'dairyFree': 'Dairy Free'})\n",
    "\n",
    "restriction_list = 'Dietary Restrictions'\n",
    "if restriction_list in UI.keys():\n",
    "    restrictions = list(restriction_list.keys())\n",
    "    for i in restrictions:\n",
    "        data = data[data[i] == TRUE]"
   ]
  },
  {
   "cell_type": "markdown",
   "id": "a2a4c8e8-83a0-42cf-a235-63c08012c809",
   "metadata": {},
   "source": [
    "# Step 6: Filter on User's nutritional needs"
   ]
  },
  {
   "cell_type": "code",
   "execution_count": null,
   "id": "b1a67f8f-0d21-4795-942a-f379b58f9bd4",
   "metadata": {},
   "outputs": [],
   "source": [
    "nutrition_needs = 'Nutrition'\n",
    "if nutrition_needs in UI.keys():\n",
    "    nutrition = list(nutrition_list.keys())\n",
    "    for i in nutrition:\n",
    "        data = data[data[i] == TRUE]\n"
   ]
  },
  {
   "cell_type": "markdown",
   "id": "efb9cdcf-0926-477b-a029-25136006db79",
   "metadata": {},
   "source": [
    "# Step 7: Filter on User's Selected Cuisine"
   ]
  },
  {
   "cell_type": "code",
   "execution_count": null,
   "id": "d7c4c6c9-8cd9-4002-a2c8-f1760f1611c4",
   "metadata": {},
   "outputs": [],
   "source": [
    "selected_cuisine = 'Cuisine'\n",
    "if selected_cuisine in UI.keys():\n",
    "    cuisine = list(selected_cuisine.keys())\n",
    "    for i in cuisine:\n",
    "        data = data[data[i] == TRUE]"
   ]
  },
  {
   "cell_type": "markdown",
   "id": "37b24cdd-6f7b-4cf6-bfb0-ac1fc8decbb0",
   "metadata": {},
   "source": [
    "# Step 8: Match Pantry Items to Potential Ingredients in the Recipes"
   ]
  },
  {
   "cell_type": "markdown",
   "id": "df945a65-8ff2-48dc-b46d-49b30ede17ae",
   "metadata": {},
   "source": [
    "#### expanding anything in the Category column (ex. spices) to everything in the Item column (ex. paprika, cumin, coriander)"
   ]
  },
  {
   "cell_type": "code",
   "execution_count": null,
   "id": "dcf22c9d-167d-4c2a-9bae-45e1f2237da5",
   "metadata": {},
   "outputs": [],
   "source": [
    "merged_data = data.merge(pantry, left_on = 'Ingredients', right_on = 'Category', how = 'left)\n",
    "\n",
    "category_mapping = data.groupby('Category')['Item'].apply(list).to_dict()\n",
    "                         \n",
    "user_ingredients = data['Ingredients']\n",
    "expanded_ingredients = user_ingredients + [item for category in user_ingredients if category in category_mapping for item in category_mapping[category]]"
   ]
  },
  {
   "cell_type": "markdown",
   "id": "fabcb798-88e7-40df-b458-a17f239ef87c",
   "metadata": {},
   "source": [
    "### replace old Ingredients column with new expanded Ingredients column "
   ]
  },
  {
   "cell_type": "code",
   "execution_count": null,
   "id": "4a58dd32-5ce0-42ff-995e-27ba47a4c2d5",
   "metadata": {},
   "outputs": [],
   "source": [
    "data['Ingredients'] = expanded_ingredients"
   ]
  },
  {
   "cell_type": "markdown",
   "id": "2e89bdf4-a21e-4125-b4fc-2e3c37469b89",
   "metadata": {},
   "source": [
    "# Step 9: Recommend the top 10 Recipes "
   ]
  },
  {
   "cell_type": "markdown",
   "id": "7d3ec8e6-a172-4a65-a478-10234912594b",
   "metadata": {},
   "source": [
    "### Will be sorted by the Spoonacular Score "
   ]
  },
  {
   "cell_type": "markdown",
   "id": "08891d62-fb91-40e0-9b33-b57aad3ee1d3",
   "metadata": {},
   "source": [
    "#### Spoonacular score takes into account popularity, nutritional value, ingredient quality, etc."
   ]
  },
  {
   "cell_type": "code",
   "execution_count": null,
   "id": "164cab49",
   "metadata": {},
   "outputs": [],
   "source": [
    "def recipe_ingredients(ingredients, user_inputs):\n",
    "    return all(ingredient in user_inputs for ingredient in ingredients)\n",
    "\n",
    "filtered_data = data[data['Ingredients'].apply(lambda x: recipe_ingredients(x, user_inputs))]\n",
    "\n",
    "filtered_data = filtered_data.sort_values(by = 'spoonacularScore', ascending = False)\n",
    "\n",
    "data = filtered_data.head(10)\n",
    "\n"
   ]
  },
  {
   "cell_type": "markdown",
   "id": "5617fcd8-4226-4983-b6ad-5b65759814e5",
   "metadata": {},
   "source": [
    "# Step 10: Vectorize the data"
   ]
  },
  {
   "cell_type": "code",
   "execution_count": null,
   "id": "a5fcff75-a644-4bd7-949f-33cbed35f392",
   "metadata": {},
   "outputs": [],
   "source": [
    "from sentence_transformers import SentenceTransformer\n",
    "\n",
    "# Initialize the model\n",
    "model = SentenceTransformer('all-MiniLM-L6-v2')\n",
    "\n",
    "# Vectorize the text column\n",
    "vectors = model.encode(data['text_column'].tolist())\n"
   ]
  },
  {
   "cell_type": "markdown",
   "id": "193385cd-b51c-4f22-a4ea-39beaba1099c",
   "metadata": {},
   "source": [
    "# Step 11: Create a Lancedb database"
   ]
  },
  {
   "cell_type": "code",
   "execution_count": null,
   "id": "5e3443e3-f6ca-4937-b4cc-212ee67e7f80",
   "metadata": {},
   "outputs": [],
   "source": [
    "import lancedb\n",
    "\n",
    "# Create a new Lancedb database (or connect to an existing one)\n",
    "db = lancedb.connect('my_lancedb')\n",
    "\n",
    "# Create a new table for your vectors\n",
    "db.create_table('my_vectors', {\n",
    "    'id': 'int',\n",
    "    'vector': 'vector<float>',  # Adjust the type as necessary\n",
    "    # Add other columns if needed\n",
    "})"
   ]
  },
  {
   "cell_type": "markdown",
   "id": "d4559576-8477-425f-b78a-dbaf1e67ae82",
   "metadata": {},
   "source": [
    "# Step 12: Insert vectors into Lancedb"
   ]
  },
  {
   "cell_type": "code",
   "execution_count": null,
   "id": "ca361c60-32fa-4ee2-bfc2-e14e1bd0e13e",
   "metadata": {},
   "outputs": [],
   "source": [
    "# Prepare data for insertion\n",
    "insert_data = [{'id': row['id'], 'vector': vector} for row, vector in zip(data.itertuples(), vectors)]\n",
    "\n",
    "# Insert data into Lancedb\n",
    "db['my_vectors'].insert(insert_data)"
   ]
  },
  {
   "cell_type": "markdown",
   "id": "b1518dc9-1804-460c-b0ff-0f935e6fd2e8",
   "metadata": {},
   "source": [
    "# Step 13: Query the vector database"
   ]
  },
  {
   "cell_type": "code",
   "execution_count": null,
   "id": "53baf7fe-cf75-437b-aec0-071f895dc2c7",
   "metadata": {},
   "outputs": [],
   "source": [
    "query_vector = model.encode([\"your query here\"])[0]\n",
    "\n",
    "# Perform a similarity search\n",
    "results = db['my_vectors'].query(\n",
    "    query_vector=query_vector,\n",
    "    top_k=10  # Number of similar items to retrieve\n",
    ")\n",
    "\n",
    "print(results)"
   ]
  },
  {
   "cell_type": "markdown",
   "id": "a3747e2f-a9aa-4090-9145-aac792f013ba",
   "metadata": {},
   "source": [
    "# Step 7: Maintain the database?"
   ]
  }
 ],
 "metadata": {
  "kernelspec": {
   "display_name": "conda_pytorch_p310",
   "language": "python",
   "name": "conda_pytorch_p310"
  },
  "language_info": {
   "codemirror_mode": {
    "name": "ipython",
    "version": 3
   },
   "file_extension": ".py",
   "mimetype": "text/x-python",
   "name": "python",
   "nbconvert_exporter": "python",
   "pygments_lexer": "ipython3",
   "version": "3.10.14"
  }
 },
 "nbformat": 4,
 "nbformat_minor": 5
}
